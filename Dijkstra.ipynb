{
  "nbformat": 4,
  "nbformat_minor": 0,
  "metadata": {
    "colab": {
      "provenance": [],
      "authorship_tag": "ABX9TyOMxbkVj2WTYJj2xSCt6SZ4",
      "include_colab_link": true
    },
    "kernelspec": {
      "name": "python3",
      "display_name": "Python 3"
    },
    "language_info": {
      "name": "python"
    }
  },
  "cells": [
    {
      "cell_type": "markdown",
      "metadata": {
        "id": "view-in-github",
        "colab_type": "text"
      },
      "source": [
        "<a href=\"https://colab.research.google.com/github/newmantic/Dijkstra/blob/main/Dijkstra.ipynb\" target=\"_parent\"><img src=\"https://colab.research.google.com/assets/colab-badge.svg\" alt=\"Open In Colab\"/></a>"
      ]
    },
    {
      "cell_type": "code",
      "execution_count": 1,
      "metadata": {
        "id": "bgSKfROh36HB"
      },
      "outputs": [],
      "source": [
        "import heapq\n",
        "\n",
        "def dijkstra(graph, start):\n",
        "    # Initialize distances with infinity and set the start node's distance to zero\n",
        "    distances = {node: float('inf') for node in graph}\n",
        "    distances[start] = 0\n",
        "\n",
        "    # Priority queue to hold nodes to be explored\n",
        "    priority_queue = [(0, start)]  # (distance, node)\n",
        "    heapq.heapify(priority_queue)\n",
        "\n",
        "    while priority_queue:\n",
        "        current_distance, current_node = heapq.heappop(priority_queue)\n",
        "\n",
        "        # If the current distance is greater than the recorded distance, continue\n",
        "        if current_distance > distances[current_node]:\n",
        "            continue\n",
        "\n",
        "        # Explore neighbors\n",
        "        for neighbor, weight in graph[current_node]:\n",
        "            distance = current_distance + weight\n",
        "\n",
        "            # If a shorter path to the neighbor is found\n",
        "            if distance < distances[neighbor]:\n",
        "                distances[neighbor] = distance\n",
        "                heapq.heappush(priority_queue, (distance, neighbor))\n",
        "\n",
        "    return distances\n"
      ]
    },
    {
      "cell_type": "code",
      "source": [
        "# Example 1: Simple Graph\n",
        "graph1 = {\n",
        "    'A': [('B', 1), ('C', 4)],\n",
        "    'B': [('A', 1), ('C', 2), ('D', 5)],\n",
        "    'C': [('A', 4), ('B', 2), ('D', 1)],\n",
        "    'D': [('B', 5), ('C', 1)]\n",
        "}\n",
        "\n",
        "print(\"Shortest paths from A:\", dijkstra(graph1, 'A'))\n",
        "# Expected output: {'A': 0, 'B': 1, 'C': 3, 'D': 4}\n",
        "\n",
        "# Example 2: Disconnected Graph\n",
        "graph2 = {\n",
        "    'A': [('B', 2)],\n",
        "    'B': [('A', 2), ('C', 3)],\n",
        "    'C': [('B', 3)],\n",
        "    'D': []\n",
        "}\n",
        "\n",
        "print(\"Shortest paths from A:\", dijkstra(graph2, 'A'))\n",
        "# Expected output: {'A': 0, 'B': 2, 'C': 5, 'D': inf}\n",
        "\n",
        "# Example 3: Cyclic Graph\n",
        "graph3 = {\n",
        "    'A': [('B', 2), ('C', 5)],\n",
        "    'B': [('A', 2), ('C', 2), ('D', 1)],\n",
        "    'C': [('A', 5), ('B', 2), ('D', 2)],\n",
        "    'D': [('B', 1), ('C', 2)]\n",
        "}\n",
        "\n",
        "print(\"Shortest paths from A:\", dijkstra(graph3, 'A'))\n",
        "# Expected output: {'A': 0, 'B': 2, 'C': 4, 'D': 3}\n",
        "\n",
        "# Example 4: Graph with Equal Edge Weights\n",
        "graph4 = {\n",
        "    'A': [('B', 1), ('C', 1)],\n",
        "    'B': [('A', 1), ('C', 1), ('D', 1)],\n",
        "    'C': [('A', 1), ('B', 1), ('D', 1)],\n",
        "    'D': [('B', 1), ('C', 1)]\n",
        "}\n",
        "\n",
        "print(\"Shortest paths from A:\", dijkstra(graph4, 'A'))\n",
        "# Expected output: {'A': 0, 'B': 1, 'C': 1, 'D': 2}\n"
      ],
      "metadata": {
        "colab": {
          "base_uri": "https://localhost:8080/"
        },
        "id": "esOp7l1t4L9o",
        "outputId": "bcb0890e-f1a7-4328-eef8-1cb52ac11e36"
      },
      "execution_count": 2,
      "outputs": [
        {
          "output_type": "stream",
          "name": "stdout",
          "text": [
            "Shortest paths from A: {'A': 0, 'B': 1, 'C': 3, 'D': 4}\n",
            "Shortest paths from A: {'A': 0, 'B': 2, 'C': 5, 'D': inf}\n",
            "Shortest paths from A: {'A': 0, 'B': 2, 'C': 4, 'D': 3}\n",
            "Shortest paths from A: {'A': 0, 'B': 1, 'C': 1, 'D': 2}\n"
          ]
        }
      ]
    }
  ]
}